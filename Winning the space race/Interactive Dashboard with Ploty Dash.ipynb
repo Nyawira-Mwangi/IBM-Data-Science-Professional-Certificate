{
 "cells": [
  {
   "cell_type": "markdown",
   "id": "66f26242-553b-4e3f-af2c-6eda56bd7528",
   "metadata": {},
   "source": [
    "# Hands-on Lab: Build an Interactive Dashboard with Ploty Dash"
   ]
  },
  {
   "cell_type": "markdown",
   "id": "72fc42ff-aba5-450e-8ade-1f5fda0e9bba",
   "metadata": {},
   "source": [
    "In this lab, you will be building a Plotly Dash application for users to perform interactive visual analytics on SpaceX launch data in\n",
    "real-time.\n",
    "\n",
    "This dashboard application contains input components such as a dropdown list and a range slider to\n",
    "interact with a pie chart and a scatter point chart. You will be guided to build this dashboard application via the following tasks:\n",
    "\n",
    "TASK 1: Add a Launch Site Drop-down Input Component<br>\n",
    "TASK 2: Add a callback function to render success-pie-chart based on selected site dropdown<br>\n",
    "TASK 3: Add a Range Slider to Select Payload<br>\n",
    "TASK 4: Add a callback function to render the success-payload-scatter-chart scatter plot<br>"
   ]
  },
  {
   "cell_type": "markdown",
   "id": "2fd00a64-976e-439a-9d90-c06acb5a4068",
   "metadata": {},
   "source": [
    "##### Estimated time needed: 90 minutes"
   ]
  },
  {
   "cell_type": "code",
   "execution_count": 5,
   "id": "7d97e2a8-ee3f-4b92-be1e-03e0940e2194",
   "metadata": {},
   "outputs": [
    {
     "name": "stdout",
     "output_type": "stream",
     "text": [
      "Requirement already satisfied: pandas in c:\\users\\maryh\\anaconda3\\lib\\site-packages (2.2.2)\n",
      "Requirement already satisfied: dash in c:\\users\\maryh\\anaconda3\\lib\\site-packages (2.18.1)\n",
      "Requirement already satisfied: numpy>=1.23.2 in c:\\users\\maryh\\anaconda3\\lib\\site-packages (from pandas) (1.26.4)\n",
      "Requirement already satisfied: python-dateutil>=2.8.2 in c:\\users\\maryh\\anaconda3\\lib\\site-packages (from pandas) (2.8.2)\n",
      "Requirement already satisfied: pytz>=2020.1 in c:\\users\\maryh\\anaconda3\\lib\\site-packages (from pandas) (2023.3.post1)\n",
      "Requirement already satisfied: tzdata>=2022.7 in c:\\users\\maryh\\anaconda3\\lib\\site-packages (from pandas) (2023.3)\n",
      "Requirement already satisfied: Flask<3.1,>=1.0.4 in c:\\users\\maryh\\anaconda3\\lib\\site-packages (from dash) (2.2.5)\n",
      "Requirement already satisfied: Werkzeug<3.1 in c:\\users\\maryh\\anaconda3\\lib\\site-packages (from dash) (2.2.3)\n",
      "Requirement already satisfied: plotly>=5.0.0 in c:\\users\\maryh\\anaconda3\\lib\\site-packages (from dash) (5.9.0)\n",
      "Requirement already satisfied: dash-html-components==2.0.0 in c:\\users\\maryh\\anaconda3\\lib\\site-packages (from dash) (2.0.0)\n",
      "Requirement already satisfied: dash-core-components==2.0.0 in c:\\users\\maryh\\anaconda3\\lib\\site-packages (from dash) (2.0.0)\n",
      "Requirement already satisfied: dash-table==5.0.0 in c:\\users\\maryh\\anaconda3\\lib\\site-packages (from dash) (5.0.0)\n",
      "Requirement already satisfied: importlib-metadata in c:\\users\\maryh\\anaconda3\\lib\\site-packages (from dash) (7.0.1)\n",
      "Requirement already satisfied: typing-extensions>=4.1.1 in c:\\users\\maryh\\anaconda3\\lib\\site-packages (from dash) (4.9.0)\n",
      "Requirement already satisfied: requests in c:\\users\\maryh\\anaconda3\\lib\\site-packages (from dash) (2.32.3)\n",
      "Requirement already satisfied: retrying in c:\\users\\maryh\\anaconda3\\lib\\site-packages (from dash) (1.3.4)\n",
      "Requirement already satisfied: nest-asyncio in c:\\users\\maryh\\anaconda3\\lib\\site-packages (from dash) (1.6.0)\n",
      "Requirement already satisfied: setuptools in c:\\users\\maryh\\anaconda3\\lib\\site-packages (from dash) (68.2.2)\n",
      "Requirement already satisfied: Jinja2>=3.0 in c:\\users\\maryh\\anaconda3\\lib\\site-packages (from Flask<3.1,>=1.0.4->dash) (3.1.3)\n",
      "Requirement already satisfied: itsdangerous>=2.0 in c:\\users\\maryh\\anaconda3\\lib\\site-packages (from Flask<3.1,>=1.0.4->dash) (2.0.1)\n",
      "Requirement already satisfied: click>=8.0 in c:\\users\\maryh\\anaconda3\\lib\\site-packages (from Flask<3.1,>=1.0.4->dash) (8.1.7)\n",
      "Requirement already satisfied: tenacity>=6.2.0 in c:\\users\\maryh\\anaconda3\\lib\\site-packages (from plotly>=5.0.0->dash) (8.2.2)\n",
      "Requirement already satisfied: six>=1.5 in c:\\users\\maryh\\anaconda3\\lib\\site-packages (from python-dateutil>=2.8.2->pandas) (1.16.0)\n",
      "Requirement already satisfied: MarkupSafe>=2.1.1 in c:\\users\\maryh\\anaconda3\\lib\\site-packages (from Werkzeug<3.1->dash) (2.1.3)\n",
      "Requirement already satisfied: zipp>=0.5 in c:\\users\\maryh\\anaconda3\\lib\\site-packages (from importlib-metadata->dash) (3.17.0)\n",
      "Requirement already satisfied: charset-normalizer<4,>=2 in c:\\users\\maryh\\anaconda3\\lib\\site-packages (from requests->dash) (2.0.4)\n",
      "Requirement already satisfied: idna<4,>=2.5 in c:\\users\\maryh\\anaconda3\\lib\\site-packages (from requests->dash) (3.4)\n",
      "Requirement already satisfied: urllib3<3,>=1.21.1 in c:\\users\\maryh\\anaconda3\\lib\\site-packages (from requests->dash) (1.26.20)\n",
      "Requirement already satisfied: certifi>=2017.4.17 in c:\\users\\maryh\\anaconda3\\lib\\site-packages (from requests->dash) (2024.8.30)\n",
      "Requirement already satisfied: colorama in c:\\users\\maryh\\anaconda3\\lib\\site-packages (from click>=8.0->Flask<3.1,>=1.0.4->dash) (0.4.6)\n",
      "Requirement already satisfied: wget in c:\\users\\maryh\\anaconda3\\lib\\site-packages (3.2)\n"
     ]
    }
   ],
   "source": [
    "#installing required packages  \n",
    "!pip install pandas dash\n",
    "!pip install wget"
   ]
  },
  {
   "cell_type": "code",
   "execution_count": 6,
   "id": "63d02bb2-8f8d-438d-87c2-8547226e0bce",
   "metadata": {},
   "outputs": [],
   "source": [
    "import dash\n",
    "from dash import dcc\n",
    "from dash import html, ctx\n",
    "from dash.dependencies import Input, Output\n",
    "import pandas as pd\n",
    "import plotly.graph_objs as go\n",
    "import plotly.express as px\n"
   ]
  },
  {
   "cell_type": "markdown",
   "id": "bcd8f5a6-c88d-432c-acd0-4d9f63be82e5",
   "metadata": {},
   "source": [
    "### Download a skeleton dashboard application and dataset"
   ]
  },
  {
   "cell_type": "code",
   "execution_count": 8,
   "id": "cb1788d0-96e7-40d8-a5c5-f3364063e4c5",
   "metadata": {},
   "outputs": [
    {
     "data": {
      "text/plain": [
       "'spacex_launch_dash (9).csv'"
      ]
     },
     "execution_count": 8,
     "metadata": {},
     "output_type": "execute_result"
    }
   ],
   "source": [
    "# download dataset\n",
    "import wget\n",
    "wget.download(\"https://cf-courses-data.s3.us.cloud-object-storage.appdomain.cloud/IBM-DS0321EN-SkillsNetwork/datasets/spacex_launch_dash.csv\")"
   ]
  },
  {
   "cell_type": "code",
   "execution_count": 9,
   "id": "305885f0-afdf-470e-8b13-a6e4c8974529",
   "metadata": {},
   "outputs": [],
   "source": [
    "# Download a skeleton Dash app to be completed in this lab:\n",
    "#wget.download(\"https://cf-courses-data.s3.us.cloud-object-storage.appdomain.cloud/IBM-DS0321EN-SkillsNetwork/labs/module_3/spacex_dash_app.py\")"
   ]
  },
  {
   "cell_type": "code",
   "execution_count": 10,
   "id": "11a03d2e-8acb-4e96-a408-05bad3a1d334",
   "metadata": {},
   "outputs": [],
   "source": [
    "# Read the airline data into pandas dataframe\n",
    "spacex_df = pd.read_csv(\"spacex_launch_dash.csv\")\n",
    "max_payload = spacex_df['Payload Mass (kg)'].max()\n",
    "min_payload = spacex_df['Payload Mass (kg)'].min()"
   ]
  },
  {
   "cell_type": "code",
   "execution_count": null,
   "id": "7c21ebcc-fdb7-4ba9-a61a-286b1ebdab26",
   "metadata": {},
   "outputs": [],
   "source": [
    " filtered_df = spacex_df[spacex_df['Launch Site'] == value].groupby(['Launch Site', 'class']). \\\n",
    "        size().reset_index(name='class count')\n",
    "        title = f\"Total Success Launches for site {value}\"\n",
    "        fig = px.pie(filtered_df,values='class count', names='class', title=title)\n",
    "        return fig"
   ]
  },
  {
   "cell_type": "code",
   "execution_count": 13,
   "id": "1992306c-93bd-46f1-bc11-4ac7d0d74db7",
   "metadata": {},
   "outputs": [
    {
     "data": {
      "text/html": [
       "\n",
       "        <iframe\n",
       "            width=\"100%\"\n",
       "            height=\"650\"\n",
       "            src=\"http://127.0.0.1:8050/\"\n",
       "            frameborder=\"0\"\n",
       "            allowfullscreen\n",
       "            \n",
       "        ></iframe>\n",
       "        "
      ],
      "text/plain": [
       "<IPython.lib.display.IFrame at 0x1a062e715d0>"
      ]
     },
     "metadata": {},
     "output_type": "display_data"
    }
   ],
   "source": [
    "app = dash.Dash(__name__)\n",
    "\n",
    "app.layout=html.Div(children=[html.H1('SpaceX Launch Records Dashboard',\n",
    "                             style={'textAlign':'center', 'color':'#503D36','font-size':40}),\n",
    "                              # Add a dropdown list to enable Launch Site selection\n",
    "                              dcc.Dropdown(id='site-dropdown',\n",
    "                                           options=[\n",
    "                                               {'label':'All Sites', 'value':'All'},\n",
    "                                               {'label':'CCAFS LC-40','value':'CCAFS LC-40'},\n",
    "                                               {'label':'VAFB SLC-4E', 'value':'VAFB SLC-4E'},\n",
    "                                               {'label':'KSC LC-39A', 'value':'KSC LC-39A'},\n",
    "                                               {'label':'CCAFS SLC-40', 'value':'CCAFS SLC-40'}\n",
    "                                           ],\n",
    "                                           value='ALL',\n",
    "                                           placeholder=\"Select a Launch Site here\",\n",
    "                                           searchable=True\n",
    "                                          ),\n",
    "                             html.Br(),\n",
    "\n",
    "                                # TASK 2: Add a pie chart to show the total successful launches count for all sites\n",
    "                                # If a specific launch site was selected, show the Success vs. Failed counts for the site\n",
    "                                html.Div(dcc.Graph(id='success-pie-chart')),\n",
    "                                html.Br(),\n",
    "                               html.P(\"Payload range (Kg):\"),\n",
    "                                # TASK 3: Add a slider to select payload range\n",
    "                                dcc.RangeSlider(id='payload-slider',\n",
    "                                min=0,\n",
    "                                max=10000,\n",
    "                                step=1000,\n",
    "                                value=[min_payload,max_payload],\n",
    "                                marks={\n",
    "                                0: '0 kg',\n",
    "                                2500: '2500',\n",
    "                                5000: '5000',\n",
    "                                7500: '7500',\n",
    "                                10000: '10000'\n",
    "                                }),\n",
    "\n",
    "                                # TASK 4: Add a scatter chart to show the correlation between payload and launch success\n",
    "                                html.Div(dcc.Graph(id='success-payload-scatter-chart')),\n",
    "                                ])\n",
    " #TASK 2: Add a callback function to render success-pie-chart based on selected site dropdown\n",
    "\n",
    "# Function decorator to specify function input and output\n",
    "@app.callback(Output(component_id='success-pie-chart', component_property='figure'),\n",
    "              Input(component_id='site-dropdown', component_property='value'))\n",
    "def get_pie(value):\n",
    "    filtered_df = spacex_df\n",
    "    if value == 'All':\n",
    "        fig = px.pie(filtered_df, values='class', names='Launch Site', title='Total Success Launches By Site')\n",
    "        return fig\n",
    "\n",
    "    else:\n",
    "        filtered_df = spacex_df[spacex_df['Launch Site'] == value].groupby(['Launch Site', 'class']). \\\n",
    "        size().reset_index(name='class count')\n",
    "        title = f\"Total Success Launches for site {value}\"\n",
    "        fig = px.pie(filtered_df,values='class count', names='class', title=title)\n",
    "        return fig\n",
    "\n",
    "#TASK 3: Add a Range Slider to Select Payload\n",
    "                              \n",
    "         \n",
    "\n",
    "#TASK 4: Add a callback function to render the success-payload-scatter-chart scatter plot    \n",
    "@app.callback(Output(component_id='success-payload-scatter-chart', component_property='figure'),\n",
    "              [Input(component_id='site-dropdown', component_property='value'),\n",
    "               Input(component_id='payload-slider', component_property='value')])\n",
    "def get_scatter_chart(selected_site, payload_range):\n",
    "    low, high = payload_range\n",
    "    if selected_site == 'All':\n",
    "        df = spacex_df\n",
    "    else:\n",
    "        df = spacex_df[spacex_df['Launch Site'] == selected_site]\n",
    "    df_mask = df[(df['Payload Mass (kg)'] >= low) & (df['Payload Mass (kg)'] <= high)]\n",
    "\n",
    "    fig = px.scatter(df_mask, x='Payload Mass (kg)', y='class', color='Booster Version Category',\n",
    "                     title='Correlation between Payload and Success')\n",
    "    \n",
    "    return fig           \n",
    "\n",
    "                            \n",
    "                              \n",
    "if __name__ == '__main__':\n",
    "    app.run_server()"
   ]
  },
  {
   "cell_type": "markdown",
   "id": "6b7376f7-1401-4245-ae0f-c9622085d389",
   "metadata": {},
   "source": [
    "### Finding Insights Visually\n",
    "Now with the dashboard completed, you should be able to use it to analyze SpaceX launch data, and answer the following questions:\n",
    "\n",
    "Which site has the largest successful launches? **KSC LC 39A**<br>\n",
    "Which site has the highest launch success rate?**KSC LC 39A**<br>\n",
    "Which payload range(s) has the highest launch success rate?**2500-5000KG**<br>\n",
    "Which payload range(s) has the lowest launch success rate?**7500-10000**<br>\n",
    "Which F9 Booster version (v1.0, v1.1, FT, B4, B5, etc.) has the highest\n",
    "launch success rate?**FT**<br>"
   ]
  },
  {
   "cell_type": "code",
   "execution_count": null,
   "id": "2e61a13f-0a4c-4c4b-9d37-9568dc77686c",
   "metadata": {},
   "outputs": [],
   "source": []
  },
  {
   "cell_type": "markdown",
   "id": "93d6675e-bdb7-4bf8-ae89-c7cc58109e0a",
   "metadata": {},
   "source": [
    "### Plotly Dash Reference\n",
    "Dropdown (input) component\n",
    "https://dash.plotly.com/dash-core-components/dropdown\n",
    "\n",
    "Range slider (input) component\n",
    "https://dash.plotly.com/dash-core-components/rangeslider\n",
    "\n",
    "Pie chart (output) component\n",
    "https://plotly.com/python/pie-charts/\n",
    "\n",
    "Scatter chart (output) component\n",
    "https://plotly.com/python/line-and-scatter/s\n",
    "\n",
    "### Author\n",
    "Yan Luo\n",
    "\n",
    "### Other contributor(s)"
   ]
  },
  {
   "cell_type": "code",
   "execution_count": null,
   "id": "b60af3b1-0baa-49e8-b4e3-a6763f75a222",
   "metadata": {},
   "outputs": [],
   "source": []
  }
 ],
 "metadata": {
  "kernelspec": {
   "display_name": "Python 3 (ipykernel)",
   "language": "python",
   "name": "python3"
  },
  "language_info": {
   "codemirror_mode": {
    "name": "ipython",
    "version": 3
   },
   "file_extension": ".py",
   "mimetype": "text/x-python",
   "name": "python",
   "nbconvert_exporter": "python",
   "pygments_lexer": "ipython3",
   "version": "3.11.7"
  }
 },
 "nbformat": 4,
 "nbformat_minor": 5
}
